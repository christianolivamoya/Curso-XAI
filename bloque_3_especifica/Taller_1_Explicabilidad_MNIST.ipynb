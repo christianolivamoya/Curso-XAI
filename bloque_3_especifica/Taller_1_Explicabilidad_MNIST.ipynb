{
  "nbformat": 4,
  "nbformat_minor": 0,
  "metadata": {
    "colab": {
      "provenance": [],
      "toc_visible": true
    },
    "kernelspec": {
      "name": "python3",
      "display_name": "Python 3"
    },
    "language_info": {
      "name": "python"
    }
  },
  "cells": [
    {
      "cell_type": "code",
      "execution_count": null,
      "metadata": {
        "id": "SMZd-PQUse52"
      },
      "outputs": [],
      "source": [
        "import tensorflow as tf\n",
        "import numpy as np\n",
        "import pandas as pd\n",
        "import matplotlib.pyplot as plt"
      ]
    },
    {
      "cell_type": "markdown",
      "source": [
        "# Cargamos los datos de MNIST"
      ],
      "metadata": {
        "id": "xMtkXZy5s6os"
      }
    },
    {
      "cell_type": "code",
      "source": [
        "(train_images, train_labels), (test_images, test_labels) = tf.keras.datasets.mnist.load_data()\n",
        "\n",
        "print(train_images.shape)\n",
        "print(train_labels.shape)\n",
        "print(train_labels)\n",
        "\n",
        "print(test_images.shape)\n",
        "print(test_labels.shape)\n",
        "print(test_labels)"
      ],
      "metadata": {
        "id": "uEaC9x01s5Il"
      },
      "execution_count": null,
      "outputs": []
    },
    {
      "cell_type": "markdown",
      "source": [
        "## Preprocesamiento"
      ],
      "metadata": {
        "id": "n9lxytYQs-Rj"
      }
    },
    {
      "cell_type": "code",
      "source": [
        "train_images = train_images / 255\n",
        "test_images = test_images / 255"
      ],
      "metadata": {
        "id": "_j34-Heks8oP"
      },
      "execution_count": null,
      "outputs": []
    },
    {
      "cell_type": "code",
      "source": [
        "plt.imshow(train_images[0], cmap=\"binary\")\n",
        "plt.colorbar()\n",
        "plt.show()"
      ],
      "metadata": {
        "id": "TAnbZMDgtBRH"
      },
      "execution_count": null,
      "outputs": []
    },
    {
      "cell_type": "markdown",
      "source": [
        "# Ejercicio 1\n",
        "\n",
        "Entrenar un modelo MLP con Keras con el dataset MNIST. Llámalo `base_model` para utilizarlo luego."
      ],
      "metadata": {
        "id": "iOpAlh6YtM20"
      }
    },
    {
      "cell_type": "code",
      "source": [],
      "metadata": {
        "id": "nk5deukSABBS"
      },
      "execution_count": null,
      "outputs": []
    },
    {
      "cell_type": "markdown",
      "source": [
        "# Ejercicio 2\n",
        "\n",
        "Entrenar un modelo MLP con Keras con el dataset MNIST utilizando regularización L1 en la capa de entrada. Llámalo `l1_model` para utilizarlo luego."
      ],
      "metadata": {
        "id": "fbK-hMGetXKi"
      }
    },
    {
      "cell_type": "code",
      "source": [],
      "metadata": {
        "id": "U70DCiolACGF"
      },
      "execution_count": null,
      "outputs": []
    },
    {
      "cell_type": "markdown",
      "source": [
        "# Ejercicio 3\n",
        "\n",
        "Analiza los pesos de entrada del modelo `base_model`. Extrae la relevancia global basada en suma de pesos en valor absoluto y analízala. ¿Podrías analizar también en qué se está fijando cada neurona de la red?"
      ],
      "metadata": {
        "id": "dWeFpUhQtuHj"
      }
    },
    {
      "cell_type": "code",
      "source": [],
      "metadata": {
        "id": "9abf5uFVADEF"
      },
      "execution_count": null,
      "outputs": []
    },
    {
      "cell_type": "markdown",
      "source": [
        "# Ejercicio 4\n",
        "\n",
        "Analiza los pesos de entrada del modelo `l1_model`. Extrae la relevancia global basada en suma de pesos en valor absoluto y analízala. ¿Podrías comparar ahora en qué se está fijando cada neurona de la red?"
      ],
      "metadata": {
        "id": "OCqwRGfFt-8B"
      }
    },
    {
      "cell_type": "code",
      "source": [],
      "metadata": {
        "id": "yE5LMzpZAEG_"
      },
      "execution_count": null,
      "outputs": []
    },
    {
      "cell_type": "markdown",
      "source": [
        "# Ejercicio 5\n",
        "\n",
        "Calcula la relevancia del modelo para los 1000 primeros datos de entrenamiento de MNIST utilizando Gradient x Input. Asegúrate de que los datos están desordenados para poder hacer `[:1000]`, que es más cómodo. Prueba a visualizar algunas imágenes. Prueba a visualizar el promedio de la relevancia por clase. Discute los resultados."
      ],
      "metadata": {
        "id": "6ubWnS1fuWSS"
      }
    },
    {
      "cell_type": "code",
      "source": [],
      "metadata": {
        "id": "5f3QpxUNAFmW"
      },
      "execution_count": null,
      "outputs": []
    },
    {
      "cell_type": "markdown",
      "source": [
        "# Ejercicio 6\n",
        "\n",
        "Calcula la relevancia del modelo para los 1000 primeros datos de entrenamiento de MNIST utilizando LRP. Asegúrate de que los datos están desordenados para poder hacer `[:1000]`, que es más cómodo. Prueba a visualizar algunas imágenes. Prueba a visualizar el promedio de la relevancia por clase. Discute los resultados."
      ],
      "metadata": {
        "id": "PiphOwkgvAuY"
      }
    },
    {
      "cell_type": "code",
      "source": [],
      "metadata": {
        "id": "Nv1hRcJNAG25"
      },
      "execution_count": null,
      "outputs": []
    },
    {
      "cell_type": "markdown",
      "source": [
        "# Ejercicio 7\n",
        "\n",
        "¿Qué método de explicabilidad de los discutidos en los ejercicios anteriores es mejor? Justifica tu respuesta."
      ],
      "metadata": {
        "id": "p0Gi7jLEvLkZ"
      }
    },
    {
      "cell_type": "code",
      "source": [],
      "metadata": {
        "id": "e5IcCQ_nAIJG"
      },
      "execution_count": null,
      "outputs": []
    },
    {
      "cell_type": "markdown",
      "source": [
        "# Ejercicio 8\n",
        "\n",
        "Entrena una CNN sencilla con el dataset MNIST. Llámalo `cnn_model` para poder utilizarlo luego."
      ],
      "metadata": {
        "id": "8by-mxhVvUx_"
      }
    },
    {
      "cell_type": "code",
      "source": [],
      "metadata": {
        "id": "dqBMTR1VAJED"
      },
      "execution_count": null,
      "outputs": []
    },
    {
      "cell_type": "markdown",
      "source": [
        "# Ejercicio 9\n",
        "\n",
        "Calcula la relevancia del modelo para los 1000 primeros datos de entrenamiento de MNIST utilizando Gradient x Input y LRP. Asegúrate de que los datos están desordenados para poder hacer `[:1000]`, que es más cómodo. Prueba a visualizar algunas imágenes. Prueba a visualizar el promedio de la relevancia por clase. Discute los resultados."
      ],
      "metadata": {
        "id": "l1i-hrAmvgCq"
      }
    },
    {
      "cell_type": "code",
      "source": [],
      "metadata": {
        "id": "T7RKC8DiAKRt"
      },
      "execution_count": null,
      "outputs": []
    },
    {
      "cell_type": "markdown",
      "source": [
        "# Ejercicio 10\n",
        "\n",
        "¿Qué método de explicabilidad de los discutidos en el ejercicio anterior es mejor? Justifica tu respuesta."
      ],
      "metadata": {
        "id": "0ZZWC7ZyvofR"
      }
    },
    {
      "cell_type": "code",
      "source": [],
      "metadata": {
        "id": "twNdqvYcstGD"
      },
      "execution_count": null,
      "outputs": []
    }
  ]
}